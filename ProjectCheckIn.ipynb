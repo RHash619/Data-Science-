{
 "cells": [
  {
   "cell_type": "markdown",
   "metadata": {},
   "source": [
    "# COGS 108 Final Project Check-In"
   ]
  },
  {
   "cell_type": "markdown",
   "metadata": {},
   "source": [
    "# Names\n",
    "\n",
    "- Rigo Carreto\n",
    "- Joshua Florez\n",
    "- Abdulfatah Hashi\n",
    "- Hatef Nabili\n",
    "- Locarno Samaan\n",
    "- Mahkameh Torabi"
   ]
  },
  {
   "cell_type": "markdown",
   "metadata": {},
   "source": [
    "# Group Members IDs\n",
    "\n",
    "- A14725587\n",
    "- A12739889\n",
    "- A14696005\n",
    "- A14720234\n",
    "- A13908642\n",
    "- A16079230"
   ]
  },
  {
   "cell_type": "markdown",
   "metadata": {},
   "source": [
    "# Accomplishments"
   ]
  },
  {
   "cell_type": "markdown",
   "metadata": {},
   "source": [
    "When we created our project timeline we agreed to strictly abide by it. We have since divided the work up in portions and have set small goals to achieve our final project conclusion.\n",
    "\n",
    "In our project we  are interested in determining if we can predict which types of athletes are most likely to earn a medal. Our first step  was to analyze the data and understand what was given and how we can interpret them. Since our data was both  qualitative and quantitative, we split the group up so that ; Mahkameh, Joshua and Hatef were in charge of the qualitative data finding out how that data was  going to help in our research and analysis methods. While Abdul, Rigo , Locarno cleaned and sorted the data to best fit the project needs.\n",
    "\n",
    "\n",
    "Once we were done cleaning and going over our raw data, we then began to set and choose variables we wanted to study. We took our time going over appropriate ways to label, compare and study the variables to perhaps find correlations. We are still in the process of finding correlations and regression and deciding what data is worth presenting and which ones are not worth. We also began the discussion of how we would present our research. Different tables, colors, layouts were discussed as well as appropriate graphs. For the most part we had accomplished a good amount of work. We are in the process of finalizing and reviewing our project, we are hopeful to finish in a timely manner.\n"
   ]
  },
  {
   "cell_type": "markdown",
   "metadata": {},
   "source": [
    "# Going Well"
   ]
  },
  {
   "cell_type": "markdown",
   "metadata": {},
   "source": [
    "Everyone in the group seems to know and understand the topic and as well as the techniques we are using to analyze the data. Workload is being split equally amongst the group. The data was already cleaned up, so it was a good start for us to continue and go to the next step of the project. The classroom material and techniques are being used to accomplish our tasks. Group members workflow steady and work gets done in a timely fashion."
   ]
  },
  {
   "cell_type": "markdown",
   "metadata": {},
   "source": [
    "# Struggles"
   ]
  },
  {
   "cell_type": "markdown",
   "metadata": {},
   "source": [
    "Everyone has different schedules so it has been hard to coordinate meeting times that work for all of us. We are going to have two or more meetings and have one or more people from each meeting attend the other meeting to get everyone else up to speed. We also wait for lessons to be taught in class so we can learn them and implement them."
   ]
  },
  {
   "cell_type": "markdown",
   "metadata": {},
   "source": [
    "# Plan Forward"
   ]
  },
  {
   "cell_type": "markdown",
   "metadata": {},
   "source": [
    "We are going to try to meet up more frequently and make more progress sooner rather than later. We decided to review lecture slides and previous assignments together to make sure every team member knows enough to complete their assigned tasks. We also want to make sure that we are processing and presenting the data correctly. We are also going to create a Slack channel and use Slack to communicate more efficiently.\n",
    "\n",
    "We also expanded our project timeline and added more tasks to make our project more well rounded. We also collectively agreed to do our own research and show up to every meeting  with more questions and feedback to improve our project. We also have agreed to verify and review our project methods and techniques to see if it best answered our thesis question. \n"
   ]
  }
 ],
 "metadata": {
  "kernelspec": {
   "display_name": "Python 3",
   "language": "python",
   "name": "python3"
  },
  "language_info": {
   "codemirror_mode": {
    "name": "ipython",
    "version": 3
   },
   "file_extension": ".py",
   "mimetype": "text/x-python",
   "name": "python",
   "nbconvert_exporter": "python",
   "pygments_lexer": "ipython3",
   "version": "3.7.4"
  }
 },
 "nbformat": 4,
 "nbformat_minor": 2
}
