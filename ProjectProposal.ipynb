{
 "cells": [
  {
   "cell_type": "markdown",
   "metadata": {},
   "source": [
    "# COGS 108 - Final Project Proposal"
   ]
  },
  {
   "cell_type": "markdown",
   "metadata": {},
   "source": [
    "# Names\n",
    "\n",
    "- Rigo Carreto\n",
    "- Joshua Florez\n",
    "- Abdulfatah Hashi\n",
    "- Hatef Nabili\n",
    "- Locarno Samaan\n",
    "- Mahkameh Torabi"
   ]
  },
  {
   "cell_type": "markdown",
   "metadata": {},
   "source": [
    "# Group Members IDs\n",
    "\n",
    "- A14720234\n",
    "- A12739889\n",
    "- A14696005\n",
    "- A14720234\n",
    "- A13908642\n",
    "- A16079230"
   ]
  },
  {
   "cell_type": "markdown",
   "metadata": {},
   "source": [
    "# Research Question"
   ]
  },
  {
   "cell_type": "markdown",
   "metadata": {},
   "source": [
    "With the upcoming 2020 Olympic Games, we are interested in determining if we can predict which types of athletes are most likely to earn a medal. We plan to look at age, sex, height, weight, nationality, sport, and more to see if there are any attributes that stand out amongst medal-earners in the games throughout the years. "
   ]
  },
  {
   "cell_type": "markdown",
   "metadata": {},
   "source": [
    "## Background and Prior Work"
   ]
  },
  {
   "cell_type": "markdown",
   "metadata": {},
   "source": [
    "Background\n",
    "- Analyzing common traits among Olympic medal winners\n",
    "- Grouping Olympians by common criteria\n",
    "- Finding a correlation among all the Olympians in the aspect of finding one common trait\n",
    "\n",
    "Prior-Work\n",
    "\n",
    "During our research we found similar projects: \n",
    "- A brief history of medals won at the summer Olympics since 1976\n",
    "- Which countries and athletes have won the most medals at the Olympics games?\n",
    "\n",
    "References:\n",
    "- 1) *A brief history of medals won at the summer Olympics since 1976*: This study examined all the medal winners in the Olympics from 1976 - 2008 and includes every medal awarded. It examines the countries with the most gold medals in a particular sport activity. \n",
    "\n",
    "- 2) *Which countries and athletes have won the most medals at the Olympics games?*:\n",
    "In this project they gather all the athletes that have the most gold medals, the country of origin and how it has changed over time. The study looks at the country, athlete, and medals"
   ]
  },
  {
   "cell_type": "markdown",
   "metadata": {},
   "source": [
    "# Hypothesis\n"
   ]
  },
  {
   "cell_type": "markdown",
   "metadata": {},
   "source": [
    "Our hypothesis is that younger, taller, athletes from America, China, or Russia seem the most likely to earn medals in the Olympics. Younger athletes are in their physical prime and we believe that they are much more likely to perform well versus older athletes. Taller athletes are better for certain sports because their longer arms and legs can give them an advantage in movement. We think that those three countries are most likely to earn medals because they probably contribute more money to ensure that their athletes are trained the best."
   ]
  },
  {
   "cell_type": "markdown",
   "metadata": {},
   "source": [
    "# Data"
   ]
  },
  {
   "cell_type": "markdown",
   "metadata": {},
   "source": [
    "120 years of Olympic history: athletes and result.\n",
    "The link can be found here: https://www.kaggle.com/heesoo37/120-years-of-olympic-history-athletes-and-results"
   ]
  },
  {
   "cell_type": "markdown",
   "metadata": {},
   "source": [
    "# Ethics & Privacy"
   ]
  },
  {
   "cell_type": "markdown",
   "metadata": {},
   "source": [
    "The data is taken from public records of all the Olympic Games from 1896 to 2016. This would mean that there is no concern of ethics in terms of how the data was collected because the information was publicly available. The data is also factual and recorded data of the athletes, therefore there are no biases because the data was collected similarly and presented similarly among the participants. "
   ]
  },
  {
   "cell_type": "markdown",
   "metadata": {},
   "source": [
    "# Team Expectations "
   ]
  },
  {
   "cell_type": "markdown",
   "metadata": {},
   "source": [
    "* Work hard\n",
    "* Have fun\n",
    "* Get things done in a timely manner\n",
    "* Be respectful of everyone's ideas"
   ]
  },
  {
   "cell_type": "markdown",
   "metadata": {},
   "source": [
    "# Project Timeline Proposal"
   ]
  },
  {
   "cell_type": "markdown",
   "metadata": {},
   "source": [
    "| Meeting Date  | Meeting Time| Completed Before Meeting  | Discuss at Meeting |\n",
    "|---|---|---|---|\n",
    "| 1/20  |  2 PM | Read about the project and brainstormed.  | Introduced ourselves; exchanged contact information; went over our availabilites; discussed project topics | \n",
    "| 1/26  |  7 AM |  Do background research on topic | Discussed proper datasets; discussed our expectations of each other; divided the roles in the project; discussed possible limitations of dataset | \n",
    "| 2/1  | 10 AM  | Edit, finalize, and submit proposal; Search for datasets  | Discuss how to go about the product; discuss the next couple of steps; provide feedback on our next research topic; discuss relevant info to the topic  |\n",
    "| 2/14  | 6 PM  | Download data; analyze and summarize data; come up with strategies to divide and present the data | Review data and discuss weak points and outliers   |\n",
    "| 2/23  | 12 PM  | Divide data and find correlations | Discuss/edit Analysis; discuss visual aids and appropriate means of visualization |\n",
    "| 3/13  | 12 PM  | Finish and edit final project| Review and Check if our research question is answered and backed up by our data and visualizations. |\n",
    "| 3/19  | Before 11:59 PM  | NA | Turn in Final Project & Group Project Surveys |"
   ]
  }
 ],
 "metadata": {
  "kernelspec": {
   "display_name": "Python 3",
   "language": "python",
   "name": "python3"
  },
  "language_info": {
   "codemirror_mode": {
    "name": "ipython",
    "version": 3
   },
   "file_extension": ".py",
   "mimetype": "text/x-python",
   "name": "python",
   "nbconvert_exporter": "python",
   "pygments_lexer": "ipython3",
   "version": "3.7.4"
  }
 },
 "nbformat": 4,
 "nbformat_minor": 2
}
